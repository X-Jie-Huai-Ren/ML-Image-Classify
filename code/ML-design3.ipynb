{
 "cells": [
  {
   "cell_type": "code",
   "execution_count": 1,
   "id": "2fa7d189",
   "metadata": {},
   "outputs": [],
   "source": [
    "import tensorflow as tf\n",
    "import numpy as np"
   ]
  },
  {
   "cell_type": "code",
   "execution_count": 2,
   "id": "58fc4884",
   "metadata": {},
   "outputs": [],
   "source": [
    "import matplotlib.pyplot as plt\n",
    "%matplotlib inline"
   ]
  },
  {
   "cell_type": "code",
   "execution_count": 3,
   "id": "e4d6ba47",
   "metadata": {},
   "outputs": [],
   "source": [
    "# 载入训练数据\n",
    "train_image = np.load('../ML-design/processed_data/train_img.npy')\n",
    "train_label = np.load('../ML-design/processed_data/train_label2.npy')\n",
    "\n",
    "# 载入测试数据\n",
    "test_image = np.load('../ML-design/processed_data/test_img.npy')\n",
    "test_label = np.load('../ML-design/processed_data/test_label.npy')"
   ]
  },
  {
   "cell_type": "code",
   "execution_count": 16,
   "id": "300ea010",
   "metadata": {},
   "outputs": [],
   "source": [
    "label_dict={0: '96023-Ricefine米立方系列',1: '87016-上臣巴西松子系列', 2: '95029-中宝果干系列', 3: '96017-乐事系列', 4: '98030-优可麦系列', 5: '96040-俊辉系列', 6: '95045-健康香酥脆枣系列', 7: '98061-凯吉托娜蛋糕系列', 8: '98042-卡尔顿系列', 9: '97050-友臣系列', 10: '93008-双鱼特级猪肉脯系列', 11: '96014-可拉奥薯条系列', 12: '98039-可米兔系列', 13: '98073-叶奇灵面包系列', 14: '87058-听鸿碧根果仁系列', 15: '96020-咪咪虾条系列', 16: '95013-囍桂子栗子系列', 17: '98006-回头客卡侬尼华夫饼系列', 18: '95007-大綦甘栗仁系列', 19: '97085-奇百味核桃糕系列', 20: '88001-奥赛山楂系列', 21: '87029-好迪南瓜子手剥香瓜子系列', 22: '87010-好迪小包牙签瓜子系列', 23: '87049-好迪独立袋开心果系列', 24: '87030-姚生记山核桃仁系列', 25: '87040-姚生记紫衣腰果系列', 26: '87037-姚生记蛋壳小核桃系列', 27: '88009-姚芝堂系列', 28: '88006-宏泰记系列', 29: '88010-寻真山楂小包系列', 30: '96032-小王子萌主战酱系列', 31: '96028-小笨牛系列', 32: '98084-小薇家作十里桃香米糕系列', 33: '96013-尖角脆-达贝卡系列', 34: '87022-山上水中炒芝麻系列', 35: '96045-布特王子薯脆系列', 36: '96005-常记掌心脆系列', 37: '97006-康泉千层酥面包系列', 38: '96035-张先生拉面丸子系列', 39: '87004-徽相印瓜蒌籽系列', 40: '95011-思宏香酥脆枣系列', 41: '96049-旺旺开心黑白配系列', 42: '96026-旺旺米雪饼仙贝系列', 43: '95046-欧小胖小包果蔬脆系列', 44: '95052-欧小胖小包泰国菠萝蜜干系列', 45: '98003-欧米嘉3+2面包系列', 46: '87059-正泓奶枣扁桃仁系列', 47: '95009-海丽天草莓干系列', 48: '98031-海之最蛋糕系列', 49: '98070-满格华夫系列', 50: '96038-潘氏兄弟系列', 51: '87014-炒坚强香瓜子系列', 52: '00056-焙小七系列', 53: '97071-焙小七蛋糕系列', 54: '97003-爱乡亲手撕面包肉松饼系列', 55: '95044-百年树小包即食桂圆肉系列', 56: '95016-硬核潮仁小核桂圆干系列', 57: '87032-硬核潮仁巴旦木系列', 58: '87050-硬核潮仁开口松子系列', 59: '95027-硬核潮仁新疆枣系列', 60: '95020-硬核潮仁枸杞系列', 61: '87038-硬核潮仁碧根果系列', 62: '95018-硬核潮仁草莓果干系列', 63: '95015-硬核潮仁葡萄干系列', 64: '95017-硬核潮仁黄白桃果干系列', 65: '97043-立回味铜锣烧系列', 66: '98054-笑果十足系列', 67: '96037-米跳熊系列', 68: '97048-绿色趣味多烤芙条系列', 69: '95006-脆马蹄系列', 70: '88003-膨升升山楂系列', 71: '98002-艾德堡系列', 72: '98037-艾思利系列', 73: '87023-苏太太醉花生系列', 74: '95008-菇甜葵果蔬干系列', 75: '96043-辈儿香系列', 76: '97024-达利园糕点系列', 77: '87018-酥香阁瓜子仁系列', 78: '87052-锦隆夏威夷果小袋系列', 79: '87054-锦隆开口松子小袋系列', 80: '87045-锦隆混合果仁系列', 81: '87046-锦隆紫衣腰果系列', 82: '87041-阿宽瓜子系列', 83: '95005-阿弟仔金枕头榴莲干系列', 84: '87056-阿里山话梅西瓜子平角包系列', 85: '87013-非尝食尚枣夹核桃系列', 86: '88005-颜派爽口梅系列', 87: '97049-鲁旺人家欧培拉蛋卷系列', 88: '95030-鲜引力即食柠檬片系列', 89: '95031-鲜引力桑葚果干系列', 90: '95032-鲜引力樱桃果干系列', 91: '95033-鲜引力黄桃果干系列', 92: '87003-鲜淘蚕豆系列'}"
   ]
  },
  {
   "cell_type": "code",
   "execution_count": 4,
   "id": "7781e31b",
   "metadata": {},
   "outputs": [],
   "source": [
    "# 数据归一化\n",
    "train_image = tf.keras.utils.normalize(train_image, axis=1)\n",
    "test_image = tf.keras.utils.normalize(test_image, axis=1)"
   ]
  },
  {
   "cell_type": "code",
   "execution_count": 5,
   "id": "b0e5f3d4",
   "metadata": {},
   "outputs": [],
   "source": [
    "# 标签序列化\n",
    "train_label = list(train_label)\n",
    "train_label_lst = []\n",
    "for label in train_label:\n",
    "    label = int(label)\n",
    "    train_label_lst.append(label)   \n",
    "train_label = tf.convert_to_tensor(train_label_lst)\n",
    "train_label = tf.cast(train_label, tf.int64)\n",
    "\n",
    "\n",
    "test_label = list(test_label)\n",
    "test_label_lst = []\n",
    "for label in test_label:\n",
    "    label = int(label)\n",
    "    test_label_lst.append(label)\n",
    "test_label = tf.convert_to_tensor(test_label_lst)\n",
    "test_label = tf.cast(test_label, tf.int64)"
   ]
  },
  {
   "cell_type": "code",
   "execution_count": 23,
   "id": "3af8e469",
   "metadata": {},
   "outputs": [],
   "source": [
    "# 建立模型\n",
    "model = tf.keras.Sequential()\n",
    "\n",
    "# conv layer\n",
    "model.add(tf.keras.layers.Conv2D(128, (3,3), activation='relu', input_shape=(70, 90, 3)))\n",
    "\n",
    "# MaxPooling layer\n",
    "model.add(tf.keras.layers.MaxPooling2D(pool_size=(2,2)))\n",
    "\n",
    "# Flaaten layer 平化层\n",
    "model.add(tf.keras.layers.Flatten())\n",
    "\n",
    "# 全连接层\n",
    "model.add(tf.keras.layers.Dense(64, activation='relu'))\n",
    "\n",
    "\n",
    "# 输出层\n",
    "model.add(tf.keras.layers.Dense(93, activation='softmax'))\n",
    "\n",
    "\n",
    "# 模型编译\n",
    "model.compile(optimizer='adam',\n",
    "              loss='sparse_categorical_crossentropy',\n",
    "              metrics='accuracy'\n",
    ")"
   ]
  },
  {
   "cell_type": "code",
   "execution_count": 24,
   "id": "88e2f7b5",
   "metadata": {},
   "outputs": [
    {
     "name": "stdout",
     "output_type": "stream",
     "text": [
      "Model: \"sequential_3\"\n",
      "_________________________________________________________________\n",
      "Layer (type)                 Output Shape              Param #   \n",
      "=================================================================\n",
      "conv2d_3 (Conv2D)            (None, 68, 88, 128)       3584      \n",
      "_________________________________________________________________\n",
      "max_pooling2d_3 (MaxPooling2 (None, 34, 44, 128)       0         \n",
      "_________________________________________________________________\n",
      "flatten_3 (Flatten)          (None, 191488)            0         \n",
      "_________________________________________________________________\n",
      "dense_6 (Dense)              (None, 64)                12255296  \n",
      "_________________________________________________________________\n",
      "dense_7 (Dense)              (None, 93)                6045      \n",
      "=================================================================\n",
      "Total params: 12,264,925\n",
      "Trainable params: 12,264,925\n",
      "Non-trainable params: 0\n",
      "_________________________________________________________________\n"
     ]
    }
   ],
   "source": [
    "model.summary()"
   ]
  },
  {
   "cell_type": "code",
   "execution_count": 25,
   "id": "7b6b7caf",
   "metadata": {},
   "outputs": [
    {
     "name": "stdout",
     "output_type": "stream",
     "text": [
      "Epoch 1/5\n",
      "413/413 [==============================] - 80s 193ms/step - loss: 3.1688 - accuracy: 0.2686 - val_loss: 2.9173 - val_accuracy: 0.3072\n",
      "Epoch 2/5\n",
      "413/413 [==============================] - 79s 191ms/step - loss: 1.5890 - accuracy: 0.5746 - val_loss: 1.7368 - val_accuracy: 0.4949\n",
      "Epoch 3/5\n",
      "413/413 [==============================] - 79s 190ms/step - loss: 0.9162 - accuracy: 0.7384 - val_loss: 1.3817 - val_accuracy: 0.5904\n",
      "Epoch 4/5\n",
      "413/413 [==============================] - 81s 195ms/step - loss: 0.5480 - accuracy: 0.8474 - val_loss: 1.1248 - val_accuracy: 0.6689\n",
      "Epoch 5/5\n",
      "413/413 [==============================] - 79s 190ms/step - loss: 0.3395 - accuracy: 0.9073 - val_loss: 1.0754 - val_accuracy: 0.6894\n"
     ]
    }
   ],
   "source": [
    "history = model.fit(train_image, train_label,\n",
    "                    epochs=5,\n",
    "                    validation_data=(test_image, test_label)\n",
    ")"
   ]
  },
  {
   "cell_type": "code",
   "execution_count": 26,
   "id": "fb55e07c",
   "metadata": {},
   "outputs": [
    {
     "data": {
      "text/plain": [
       "<matplotlib.legend.Legend at 0x19dc4a94f88>"
      ]
     },
     "execution_count": 26,
     "metadata": {},
     "output_type": "execute_result"
    },
    {
     "data": {
      "image/png": "[encoded data removed]",
      "text/plain": [
       "<Figure size 432x288 with 1 Axes>"
      ]
     },
     "metadata": {
      "needs_background": "light"
     },
     "output_type": "display_data"
    }
   ],
   "source": [
    "# 通过绘图来比较训练集loss和测试集loss随训练轮数的变化， 观察是否发生过拟合\n",
    "plt.plot(history.epoch, history.history.get('loss'), label='loss')\n",
    "plt.plot(history.epoch, history.history.get('val_loss'), label='val_loss')\n",
    "plt.legend()"
   ]
  },
  {
   "cell_type": "code",
   "execution_count": 27,
   "id": "7051e1c6",
   "metadata": {},
   "outputs": [
    {
     "data": {
      "text/plain": [
       "<matplotlib.legend.Legend at 0x19dc4b69ec8>"
      ]
     },
     "execution_count": 27,
     "metadata": {},
     "output_type": "execute_result"
    },
    {
     "data": {
      "image/png": "[encoded data removed]",
      "text/plain": [
       "<Figure size 432x288 with 1 Axes>"
      ]
     },
     "metadata": {
      "needs_background": "light"
     },
     "output_type": "display_data"
    }
   ],
   "source": [
    "# 绘制准确率与训练轮数之间的关系\n",
    "plt.plot(history.epoch, history.history.get('accuracy'), label='acc')\n",
    "plt.plot(history.epoch, history.history.get('val_accuracy'), label='val_acc')\n",
    "plt.legend()"
   ]
  },
  {
   "cell_type": "code",
   "execution_count": 28,
   "id": "ba742b3d",
   "metadata": {},
   "outputs": [
    {
     "name": "stdout",
     "output_type": "stream",
     "text": [
      "10/10 [==============================] - 0s 34ms/step - loss: 1.0754 - accuracy: 0.6894\n"
     ]
    },
    {
     "data": {
      "text/plain": [
       "[1.0753722190856934, 0.6894198060035706]"
      ]
     },
     "execution_count": 28,
     "metadata": {},
     "output_type": "execute_result"
    }
   ],
   "source": [
    "# 模型评估\n",
    "model.evaluate(test_image, test_label)"
   ]
  },
  {
   "cell_type": "code",
   "execution_count": 32,
   "id": "ed0f3d7c",
   "metadata": {},
   "outputs": [
    {
     "data": {
      "text/plain": [
       "array([6.95812404e-01, 5.04382305e-21, 2.55807044e-17, 1.47424398e-05,\n",
       "       7.70749584e-16, 2.98986048e-01, 1.89414298e-08, 1.37262214e-14,\n",
       "       4.32818069e-06, 3.08901321e-10, 2.03410500e-11, 1.54609001e-08,\n",
       "       6.15833339e-14, 8.09046219e-16, 1.11687114e-21, 1.76670786e-03,\n",
       "       9.15813606e-12, 1.92391854e-17, 5.37784053e-11, 1.51708281e-08,\n",
       "       1.25509084e-20, 2.45231666e-15, 2.00096292e-06, 1.70230965e-11,\n",
       "       3.08325240e-20, 8.75542924e-14, 4.74036060e-16, 9.08221794e-13,\n",
       "       2.28082744e-12, 2.70732825e-10, 5.95784327e-13, 6.01227162e-04,\n",
       "       2.19138162e-11, 1.14978140e-11, 2.44751314e-15, 4.67264783e-07,\n",
       "       7.85224046e-08, 2.39932074e-09, 4.12116918e-08, 5.08080630e-05,\n",
       "       9.15211053e-16, 9.99891654e-07, 6.03822343e-07, 1.51378750e-08,\n",
       "       4.96905113e-06, 3.52549222e-07, 2.20403627e-15, 2.62430081e-06,\n",
       "       2.09477347e-09, 2.40156605e-15, 2.72318418e-03, 1.88744571e-12,\n",
       "       3.26944324e-22, 1.05919022e-14, 5.72524466e-20, 6.92675896e-26,\n",
       "       1.15970966e-08, 6.60198337e-16, 4.84184082e-11, 1.48054324e-09,\n",
       "       2.01391709e-20, 2.48241682e-15, 1.06034304e-09, 9.76491978e-12,\n",
       "       8.73184242e-15, 7.30000787e-17, 2.40653151e-08, 4.45241903e-06,\n",
       "       1.57426587e-06, 2.14560633e-10, 4.47718644e-14, 4.90284313e-10,\n",
       "       6.03432859e-10, 4.37390707e-10, 3.96248678e-09, 1.99124806e-05,\n",
       "       4.32734257e-23, 8.31223371e-12, 1.28216611e-13, 6.37243014e-09,\n",
       "       1.91771343e-16, 9.35269874e-13, 2.19044651e-14, 3.38936507e-13,\n",
       "       5.29466204e-09, 1.19743035e-10, 3.02786313e-21, 3.52972901e-10,\n",
       "       5.36658931e-26, 3.02373144e-13, 3.58828473e-13, 2.46521313e-06,\n",
       "       1.73615540e-08], dtype=float32)"
      ]
     },
     "execution_count": 32,
     "metadata": {},
     "output_type": "execute_result"
    }
   ],
   "source": [
    "# 对测试集图片的预测\n",
    "predict = model.predict(test_image)\n",
    "\n",
    "predict[0]"
   ]
  },
  {
   "cell_type": "code",
   "execution_count": 33,
   "id": "9ef0b739",
   "metadata": {},
   "outputs": [
    {
     "data": {
      "text/plain": [
       "0"
      ]
     },
     "execution_count": 33,
     "metadata": {},
     "output_type": "execute_result"
    }
   ],
   "source": [
    "# 取最大值索引\n",
    "np.argmax(predict[0])"
   ]
  },
  {
   "cell_type": "code",
   "execution_count": 36,
   "id": "f3118a23",
   "metadata": {},
   "outputs": [
    {
     "data": {
      "text/plain": [
       "'96023-Ricefine米立方系列'"
      ]
     },
     "execution_count": 36,
     "metadata": {},
     "output_type": "execute_result"
    }
   ],
   "source": [
    "label_dict[0]"
   ]
  },
  {
   "cell_type": "code",
   "execution_count": null,
   "id": "5f130c34",
   "metadata": {},
   "outputs": [],
   "source": []
  }
 ],
 "metadata": {
  "kernelspec": {
   "display_name": "Python (tensorflow-study)",
   "language": "python",
   "name": "tensorflow-study"
  },
  "language_info": {
   "codemirror_mode": {
    "name": "ipython",
    "version": 3
   },
   "file_extension": ".py",
   "mimetype": "text/x-python",
   "name": "python",
   "nbconvert_exporter": "python",
   "pygments_lexer": "ipython3",
   "version": "3.7.10"
  }
 },
 "nbformat": 4,
 "nbformat_minor": 5
}
